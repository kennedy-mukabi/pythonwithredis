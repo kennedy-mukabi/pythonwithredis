{
 "cells": [
  {
   "cell_type": "code",
   "execution_count": 10,
   "id": "frank-semiconductor",
   "metadata": {},
   "outputs": [
    {
     "name": "stdout",
     "output_type": "stream",
     "text": [
      "b'world'\n",
      "None\n"
     ]
    }
   ],
   "source": [
    "import redis\n",
    "\n",
    "r = redis.Redis(host='localhost', port=6379, db=1)\n",
    "\n",
    "r.set('hello', 'world') # True\n",
    "\n",
    "value = r.get('hello')\n",
    "print(value) # b'world'\n",
    "\n",
    "r.delete('hello') # True\n",
    "print(r.get('hello')) # None"
   ]
  },
  {
   "cell_type": "code",
   "execution_count": null,
   "id": "laden-butterfly",
   "metadata": {},
   "outputs": [],
   "source": []
  },
  {
   "cell_type": "code",
   "execution_count": null,
   "id": "blocked-plastic",
   "metadata": {},
   "outputs": [],
   "source": []
  }
 ],
 "metadata": {
  "kernelspec": {
   "display_name": "Python 3",
   "language": "python",
   "name": "python3"
  },
  "language_info": {
   "codemirror_mode": {
    "name": "ipython",
    "version": 3
   },
   "file_extension": ".py",
   "mimetype": "text/x-python",
   "name": "python",
   "nbconvert_exporter": "python",
   "pygments_lexer": "ipython3",
   "version": "3.9.2"
  }
 },
 "nbformat": 4,
 "nbformat_minor": 5
}
